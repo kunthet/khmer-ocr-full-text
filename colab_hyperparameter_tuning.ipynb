{
  "cells": [
    {
      "cell_type": "markdown",
      "metadata": {
        "id": "header"
      },
      "source": [
        "# 🚀 Khmer OCR Hyperparameter Tuning on Google Colab\n",
        "\n",
        "**Phase 3.1: Systematic Hyperparameter Optimization**\n",
        "\n",
        "This notebook runs hyperparameter tuning experiments for the Khmer digits OCR model with GPU acceleration.\n",
        "\n",
        "## 📋 Setup Checklist:\n",
        "1. ✅ Enable GPU: Runtime → Change runtime type → GPU\n",
        "2. ✅ Upload your project files (or clone from GitHub)\n",
        "3. ✅ Run all cells in order\n",
        "4. ✅ Download results when complete\n"
      ]
    },
    {
      "cell_type": "markdown",
      "metadata": {
        "id": "setup-env"
      },
      "source": [
        "## 🔧 Environment Setup"
      ]
    },
    {
      "cell_type": "code",
      "execution_count": 1,
      "metadata": {
        "id": "check-gpu"
      },
      "outputs": [
        {
          "name": "stdout",
          "output_type": "stream",
          "text": [
            "Python version: 3.10.12 | packaged by conda-forge | (main, Jun 23 2023, 22:39:40) [Clang 15.0.7 ]\n",
            "PyTorch version: 2.2.2\n",
            "CUDA available: False\n",
            "⚠️ No GPU detected. Enable GPU in Runtime → Change runtime type\n"
          ]
        }
      ],
      "source": [
        "# Check GPU availability\n",
        "import torch\n",
        "import sys\n",
        "print(f\"Python version: {sys.version}\")\n",
        "print(f\"PyTorch version: {torch.__version__}\")\n",
        "print(f\"CUDA available: {torch.cuda.is_available()}\")\n",
        "if torch.cuda.is_available():\n",
        "    print(f\"GPU: {torch.cuda.get_device_name(0)}\")\n",
        "    print(f\"GPU Memory: {torch.cuda.get_device_properties(0).total_memory / 1e9:.1f} GB\")\n",
        "else:\n",
        "    print(\"⚠️ No GPU detected. Enable GPU in Runtime → Change runtime type\")"
      ]
    },
    {
      "cell_type": "code",
      "execution_count": null,
      "metadata": {
        "id": "install-deps"
      },
      "outputs": [],
      "source": [
        "# Install additional dependencies if needed\n",
        "!pip install -q opencv-python-headless\n",
        "!pip install -q albumentations\n",
        "!pip install -q tensorboard\n",
        "!pip install -q efficientnet-pytorch\n",
        "!pip install -q Pillow\n",
        "!pip install -q pyyaml\n",
        "!pip install -q tqdm\n",
        "\n",
        "print(\"✅ Dependencies installed!\")"
      ]
    },
    {
      "cell_type": "markdown",
      "metadata": {
        "id": "upload-files"
      },
      "source": [
        "## 📁 Upload Project Files\n",
        "\n",
        "**Option 1: Upload ZIP file**\n",
        "- Compress your entire project folder\n",
        "- Upload and extract using the cell below\n",
        "\n",
        "**Option 2: Clone from GitHub** (if your project is on GitHub)\n",
        "- Use the git clone cell below"
      ]
    },
    {
      "cell_type": "code",
      "execution_count": null,
      "metadata": {
        "id": "upload-project"
      },
      "outputs": [],
      "source": [
        "# Option 1: Upload ZIP file\n",
        "# from google.colab import files\n",
        "# import zipfile\n",
        "# import os\n",
        "\n",
        "# print(\"📁 Upload your project ZIP file:\")\n",
        "# uploaded = files.upload()\n",
        "\n",
        "# # Extract the uploaded ZIP\n",
        "# for filename in uploaded.keys():\n",
        "#     if filename.endswith('.zip'):\n",
        "#         print(f\"Extracting {filename}...\")\n",
        "#         with zipfile.ZipFile(filename, 'r') as zip_ref:\n",
        "#             zip_ref.extractall('.')\n",
        "#         print(f\"✅ Extracted {filename}\")\n",
        "        \n",
        "# # List contents to verify\n",
        "# print(\"\\n📂 Current directory contents:\")\n",
        "# !ls -la"
      ]
    },
    {
      "cell_type": "code",
      "execution_count": null,
      "metadata": {
        "id": "clone-github"
      },
      "outputs": [],
      "source": [
        "# Option 2: Clone from GitHub (uncomment and modify URL)\n",
        "!git clone https://github.com/yourusername/khmer-ocr-digits.git\n",
        "%cd khmer-ocr-digits\n",
        "print(\"✅ Project cloned from GitHub\")"
      ]
    },
    {
      "cell_type": "code",
      "execution_count": 2,
      "metadata": {
        "id": "setup-paths"
      },
      "outputs": [
        {
          "name": "stdout",
          "output_type": "stream",
          "text": [
            "✅ Project root: /Users/kunthet/dev/khm/khmer-ocr-digits\n",
            "✅ Added to Python path: /Users/kunthet/dev/khm/khmer-ocr-digits/src\n"
          ]
        }
      ],
      "source": [
        "# Setup project paths\n",
        "import os\n",
        "import sys\n",
        "from pathlib import Path\n",
        "\n",
        "# Find project root (adjust path if needed)\n",
        "project_root = None\n",
        "for root in ['.', './khmer-ocr-digits', '../']:\n",
        "    if os.path.exists(os.path.join(root, 'src')):\n",
        "        project_root = Path(root).resolve()\n",
        "        break\n",
        "\n",
        "if project_root:\n",
        "    os.chdir(project_root)\n",
        "    sys.path.append(str(project_root / 'src'))\n",
        "    print(f\"✅ Project root: {project_root}\")\n",
        "    print(f\"✅ Added to Python path: {project_root / 'src'}\")\n",
        "else:\n",
        "    print(\"❌ Could not find project root. Please check your upload.\")\n",
        "    print(\"Current directory contents:\")\n",
        "    !ls -la"
      ]
    },
    {
      "cell_type": "markdown",
      "metadata": {
        "id": "verify-setup"
      },
      "source": [
        "## ✅ Verify Setup"
      ]
    },
    {
      "cell_type": "code",
      "execution_count": 3,
      "metadata": {
        "id": "test-imports"
      },
      "outputs": [
        {
          "name": "stdout",
          "output_type": "stream",
          "text": [
            "✅ All imports successful!\n"
          ]
        }
      ],
      "source": [
        "# Test imports to verify everything is working\n",
        "try:\n",
        "    from modules.data_utils import KhmerDigitsDataset\n",
        "    from models import create_model\n",
        "    from modules.trainers import OCRTrainer\n",
        "    from modules.trainers.utils import setup_training_environment, TrainingConfig\n",
        "    print(\"✅ All imports successful!\")\n",
        "except ImportError as e:\n",
        "    print(f\"❌ Import error: {e}\")\n",
        "    print(\"Please check your project structure and file uploads.\")"
      ]
    },
    {
      "cell_type": "code",
      "execution_count": 4,
      "metadata": {
        "id": "check-data"
      },
      "outputs": [
        {
          "name": "stdout",
          "output_type": "stream",
          "text": [
            "📋 Checking required files:\n",
            "✅ generated_data/metadata.yaml\n",
            "✅ config/phase3_training_configs.yaml\n",
            "✅ config/model_config.yaml\n",
            "\n",
            "🎉 All required files found! Ready to start training.\n"
          ]
        }
      ],
      "source": [
        "# Check if data files exist\n",
        "import os\n",
        "\n",
        "required_files = [\n",
        "    'generated_data/metadata.yaml',\n",
        "    'config/phase3_training_configs.yaml',\n",
        "    'config/model_config.yaml'\n",
        "]\n",
        "\n",
        "print(\"📋 Checking required files:\")\n",
        "all_files_exist = True\n",
        "for file_path in required_files:\n",
        "    if os.path.exists(file_path):\n",
        "        print(f\"✅ {file_path}\")\n",
        "    else:\n",
        "        print(f\"❌ {file_path} - NOT FOUND\")\n",
        "        all_files_exist = False\n",
        "\n",
        "if all_files_exist:\n",
        "    print(\"\\n🎉 All required files found! Ready to start training.\")\n",
        "else:\n",
        "    print(\"\\n⚠️ Some files are missing. Please check your upload.\")"
      ]
    },
    {
      "cell_type": "markdown",
      "metadata": {
        "id": "hyperparameter-tuning"
      },
      "source": [
        "## 🚀 Hyperparameter Tuning"
      ]
    },
    {
      "cell_type": "code",
      "execution_count": 5,
      "metadata": {
        "id": "tuning-class"
      },
      "outputs": [
        {
          "name": "stdout",
          "output_type": "stream",
          "text": [
            "✅ Colab Hyperparameter Tuner class loaded!\n"
          ]
        }
      ],
      "source": [
        "# Colab-adapted Hyperparameter Tuning Class\n",
        "import yaml\n",
        "import json\n",
        "import logging\n",
        "import time\n",
        "from datetime import datetime\n",
        "from typing import Dict, List, Any\n",
        "import torch\n",
        "from IPython.display import display, HTML, clear_output\n",
        "import matplotlib.pyplot as plt\n",
        "\n",
        "class ColabHyperparameterTuner:\n",
        "    \"\"\"Colab-optimized hyperparameter tuner with live progress tracking.\"\"\"\n",
        "    \n",
        "    def __init__(self, config_file: str = \"config/phase3_training_configs.yaml\"):\n",
        "        self.config_file = config_file\n",
        "        self.results = []\n",
        "        self.best_result = None\n",
        "        self.experiments_completed = 0\n",
        "        \n",
        "        # Load configuration\n",
        "        with open(config_file, 'r') as f:\n",
        "            self.config = yaml.safe_load(f)\n",
        "        \n",
        "        # Setup logging for Colab\n",
        "        self.setup_colab_logging()\n",
        "        \n",
        "    def setup_colab_logging(self):\n",
        "        \"\"\"Setup logging optimized for Colab.\"\"\"\n",
        "        timestamp = datetime.now().strftime(\"%Y%m%d_%H%M%S\")\n",
        "        \n",
        "        # Configure logging\n",
        "        logging.basicConfig(\n",
        "            level=logging.INFO,\n",
        "            format='%(asctime)s - %(levelname)s - %(message)s',\n",
        "            force=True\n",
        "        )\n",
        "        self.logger = logging.getLogger(__name__)\n",
        "        \n",
        "    def create_training_config(self, experiment_config: Dict) -> TrainingConfig:\n",
        "        \"\"\"Create TrainingConfig object from experiment configuration.\"\"\"\n",
        "        # Adapt for Colab GPU environment\n",
        "        config = TrainingConfig(\n",
        "            experiment_name=experiment_config['experiment_name'],\n",
        "            model_name=experiment_config['model']['name'],\n",
        "            model_config_path=experiment_config['model']['config_path'],\n",
        "            metadata_path=experiment_config['data']['metadata_path'],\n",
        "            batch_size=experiment_config['training']['batch_size'],\n",
        "            num_workers=2,  # Reduced for Colab\n",
        "            pin_memory=True,  # Enable for GPU\n",
        "            learning_rate=experiment_config['training']['learning_rate'],\n",
        "            weight_decay=experiment_config['training']['weight_decay'],\n",
        "            num_epochs=experiment_config['training']['num_epochs'],\n",
        "            device=\"auto\",  # Will auto-detect GPU\n",
        "            mixed_precision=True,  # Enable for GPU speedup\n",
        "            gradient_clip_norm=experiment_config['training']['gradient_clip_norm'],\n",
        "            loss_type=experiment_config['training']['loss_type'],\n",
        "            label_smoothing=experiment_config['training'].get('label_smoothing', 0.0),\n",
        "            scheduler_type=experiment_config['scheduler']['type'],\n",
        "            step_size=experiment_config['scheduler'].get('step_size', 10),\n",
        "            gamma=experiment_config['scheduler'].get('gamma', 0.5),\n",
        "            early_stopping_patience=experiment_config['early_stopping']['patience'],\n",
        "            early_stopping_min_delta=experiment_config['early_stopping']['min_delta'],\n",
        "            log_every_n_steps=experiment_config['training']['log_every_n_steps'],\n",
        "            save_every_n_epochs=experiment_config['training']['save_every_n_epochs'],\n",
        "            keep_n_checkpoints=2,  # Reduced for Colab storage\n",
        "            use_tensorboard=True,\n",
        "            output_dir=\"training_output\"\n",
        "        )\n",
        "        return config\n",
        "\n",
        "    def display_progress(self, current_exp: int, total_exp: int, exp_name: str, status: str):\n",
        "        \"\"\"Display live progress in Colab.\"\"\"\n",
        "        progress_html = f\"\"\"\n",
        "        <div style=\"border: 2px solid #4CAF50; padding: 10px; margin: 10px 0; border-radius: 5px;\">\n",
        "            <h3>🚀 Hyperparameter Tuning Progress</h3>\n",
        "            <p><strong>Experiment:</strong> {current_exp}/{total_exp} - {exp_name}</p>\n",
        "            <p><strong>Status:</strong> {status}</p>\n",
        "            <div style=\"background-color: #f0f0f0; border-radius: 10px; padding: 3px;\">\n",
        "                <div style=\"background-color: #4CAF50; height: 20px; border-radius: 10px; width: {(current_exp/total_exp)*100}%;\"></div>\n",
        "            </div>\n",
        "            <p>{(current_exp/total_exp)*100:.1f}% Complete</p>\n",
        "        </div>\n",
        "        \"\"\"\n",
        "        display(HTML(progress_html))\n",
        "\n",
        "    def run_single_experiment(self, experiment_name: str, experiment_config: Dict) -> Dict:\n",
        "        \"\"\"Run a single hyperparameter experiment with Colab optimizations.\"\"\"\n",
        "        self.logger.info(f\"🚀 Starting experiment: {experiment_name}\")\n",
        "        \n",
        "        start_time = time.time()\n",
        "        \n",
        "        try:\n",
        "            # Create training configuration\n",
        "            training_config = self.create_training_config(experiment_config)\n",
        "            \n",
        "            # Setup environment\n",
        "            env_info = setup_training_environment(training_config)\n",
        "            device = env_info['device']\n",
        "            exp_dir = env_info['dirs']['experiment_dir']\n",
        "            \n",
        "            self.logger.info(f\"🖥️ Using device: {device}\")\n",
        "            \n",
        "            # Load datasets\n",
        "            self.logger.info(\"📚 Loading datasets...\")\n",
        "            \n",
        "            from modules.data_utils.preprocessing import get_train_transforms, get_val_transforms\n",
        "            \n",
        "            train_dataset = KhmerDigitsDataset(\n",
        "                metadata_path=training_config.metadata_path,\n",
        "                split='train',\n",
        "                transform=get_train_transforms()\n",
        "            )\n",
        "            val_dataset = KhmerDigitsDataset(\n",
        "                metadata_path=training_config.metadata_path,\n",
        "                split='val',\n",
        "                transform=get_val_transforms()\n",
        "            )\n",
        "            \n",
        "            # Create data loaders\n",
        "            from torch.utils.data import DataLoader\n",
        "            from modules.data_utils.dataset import collate_fn\n",
        "            \n",
        "            train_loader = DataLoader(\n",
        "                train_dataset,\n",
        "                batch_size=training_config.batch_size,\n",
        "                shuffle=True,\n",
        "                num_workers=training_config.num_workers,\n",
        "                pin_memory=training_config.pin_memory,\n",
        "                collate_fn=collate_fn\n",
        "            )\n",
        "            \n",
        "            val_loader = DataLoader(\n",
        "                val_dataset,\n",
        "                batch_size=training_config.batch_size,\n",
        "                shuffle=False,\n",
        "                num_workers=training_config.num_workers,\n",
        "                pin_memory=training_config.pin_memory,\n",
        "                collate_fn=collate_fn\n",
        "            )\n",
        "            \n",
        "            self.logger.info(f\"📊 Training samples: {len(train_dataset)}\")\n",
        "            self.logger.info(f\"📊 Validation samples: {len(val_dataset)}\")\n",
        "            \n",
        "            # Create model\n",
        "            self.logger.info(\"🏗️ Creating model...\")\n",
        "            model = create_model(\n",
        "                preset=training_config.model_name,\n",
        "                vocab_size=len(train_dataset.char_to_idx),\n",
        "                max_sequence_length=train_dataset.max_sequence_length + 1\n",
        "            )\n",
        "            \n",
        "            # Initialize trainer\n",
        "            trainer = OCRTrainer(\n",
        "                model=model,\n",
        "                train_loader=train_loader,\n",
        "                val_loader=val_loader,\n",
        "                config=training_config,\n",
        "                device=device\n",
        "            )\n",
        "            \n",
        "            # Run training\n",
        "            self.logger.info(\"🎯 Starting training...\")\n",
        "            training_history = trainer.train()\n",
        "            \n",
        "            # Calculate metrics\n",
        "            end_time = time.time()\n",
        "            training_time = end_time - start_time\n",
        "            \n",
        "            # Extract metrics correctly from training history\n",
        "            training_hist = training_history.get('training_history', {})\n",
        "            val_metrics_list = training_hist.get('val_metrics', [])\n",
        "            \n",
        "            # Calculate best metrics across all epochs\n",
        "            best_char_acc = 0.0\n",
        "            best_seq_acc = 0.0\n",
        "            \n",
        "            if val_metrics_list:\n",
        "                char_accuracies = [m.get('char_accuracy', 0.0) for m in val_metrics_list]\n",
        "                seq_accuracies = [m.get('seq_accuracy', 0.0) for m in val_metrics_list]\n",
        "                best_char_acc = max(char_accuracies) if char_accuracies else 0.0\n",
        "                best_seq_acc = max(seq_accuracies) if seq_accuracies else 0.0\n",
        "            \n",
        "            # Get final loss\n",
        "            train_losses = training_hist.get('train_loss', [])\n",
        "            final_train_loss = train_losses[-1] if train_losses else float('inf')\n",
        "            \n",
        "            # Create result\n",
        "            result = {\n",
        "                'experiment_name': experiment_name,\n",
        "                'status': 'completed',\n",
        "                'training_time': training_time,\n",
        "                'best_val_char_accuracy': best_char_acc,\n",
        "                'best_val_seq_accuracy': best_seq_acc,\n",
        "                'final_train_loss': final_train_loss,\n",
        "                'device': str(device),\n",
        "                'hyperparameters': {\n",
        "                    'model_name': experiment_config['model']['name'],\n",
        "                    'batch_size': experiment_config['training']['batch_size'],\n",
        "                    'learning_rate': experiment_config['training']['learning_rate'],\n",
        "                    'weight_decay': experiment_config['training']['weight_decay'],\n",
        "                    'loss_type': experiment_config['training']['loss_type'],\n",
        "                    'scheduler_type': experiment_config['scheduler']['type']\n",
        "                },\n",
        "                'training_history': training_hist\n",
        "            }\n",
        "            \n",
        "            self.logger.info(f\"✅ Experiment {experiment_name} completed!\")\n",
        "            self.logger.info(f\"🏆 Best character accuracy: {result['best_val_char_accuracy']:.4f}\")\n",
        "            self.logger.info(f\"🏆 Best sequence accuracy: {result['best_val_seq_accuracy']:.4f}\")\n",
        "            \n",
        "            return result\n",
        "            \n",
        "        except Exception as e:\n",
        "            self.logger.error(f\"❌ Experiment {experiment_name} failed: {str(e)}\")\n",
        "            return {\n",
        "                'experiment_name': experiment_name,\n",
        "                'status': 'failed',\n",
        "                'error': str(e),\n",
        "                'training_time': time.time() - start_time\n",
        "            }\n",
        "\n",
        "    def run_experiments(self, experiment_names: List[str] = None):\n",
        "        \"\"\"Run all or specified experiments with Colab progress tracking.\"\"\"\n",
        "        experiments = self.config['experiments']\n",
        "        \n",
        "        if experiment_names:\n",
        "            experiments = {name: config for name, config in experiments.items() \n",
        "                          if name in experiment_names}\n",
        "        \n",
        "        total_experiments = len(experiments)\n",
        "        self.logger.info(f\"🚀 Starting hyperparameter tuning with {total_experiments} experiments\")\n",
        "        \n",
        "        for i, (exp_name, exp_config) in enumerate(experiments.items(), 1):\n",
        "            # Update progress display\n",
        "            clear_output(wait=True)\n",
        "            self.display_progress(i-1, total_experiments, exp_name, \"Starting...\")\n",
        "            \n",
        "            result = self.run_single_experiment(exp_name, exp_config)\n",
        "            self.results.append(result)\n",
        "            \n",
        "            # Update best result\n",
        "            if (result.get('status') == 'completed' and \n",
        "                (self.best_result is None or \n",
        "                 result['best_val_char_accuracy'] > \n",
        "                 self.best_result['best_val_char_accuracy'])):\n",
        "                self.best_result = result\n",
        "            \n",
        "            self.experiments_completed += 1\n",
        "            \n",
        "            # Update progress display\n",
        "            status = \"✅ Completed\" if result.get('status') == 'completed' else \"❌ Failed\"\n",
        "            self.display_progress(i, total_experiments, exp_name, status)\n",
        "            \n",
        "            # Display current results\n",
        "            self.display_results_table()\n",
        "\n",
        "    def display_results_table(self):\n",
        "        \"\"\"Display results in a nice HTML table.\"\"\"\n",
        "        if not self.results:\n",
        "            return\n",
        "            \n",
        "        # Sort results by character accuracy\n",
        "        completed_results = [r for r in self.results if r.get('status') == 'completed']\n",
        "        completed_results.sort(key=lambda x: x.get('best_val_char_accuracy', 0), reverse=True)\n",
        "        \n",
        "        html = \"\"\"\n",
        "        <div style=\"margin: 20px 0;\">\n",
        "            <h3>📊 Current Results</h3>\n",
        "            <table style=\"border-collapse: collapse; width: 100%; border: 1px solid #ddd;\">\n",
        "                <thead>\n",
        "                    <tr style=\"background-color: #f2f2f2;\">\n",
        "                        <th style=\"border: 1px solid #ddd; padding: 8px;\">Rank</th>\n",
        "                        <th style=\"border: 1px solid #ddd; padding: 8px;\">Experiment</th>\n",
        "                        <th style=\"border: 1px solid #ddd; padding: 8px;\">Char Acc</th>\n",
        "                        <th style=\"border: 1px solid #ddd; padding: 8px;\">Seq Acc</th>\n",
        "                        <th style=\"border: 1px solid #ddd; padding: 8px;\">Model</th>\n",
        "                        <th style=\"border: 1px solid #ddd; padding: 8px;\">Status</th>\n",
        "                    </tr>\n",
        "                </thead>\n",
        "                <tbody>\n",
        "        \"\"\"\n",
        "        \n",
        "        for i, result in enumerate(completed_results, 1):\n",
        "            status_emoji = \"✅\" if result.get('status') == 'completed' else \"❌\"\n",
        "            char_acc = result.get('best_val_char_accuracy', 0) * 100\n",
        "            seq_acc = result.get('best_val_seq_accuracy', 0) * 100\n",
        "            model_name = result.get('hyperparameters', {}).get('model_name', 'unknown')\n",
        "            \n",
        "            html += f\"\"\"\n",
        "                <tr>\n",
        "                    <td style=\"border: 1px solid #ddd; padding: 8px; text-align: center;\">{i}</td>\n",
        "                    <td style=\"border: 1px solid #ddd; padding: 8px;\">{result['experiment_name']}</td>\n",
        "                    <td style=\"border: 1px solid #ddd; padding: 8px; text-align: center;\">{char_acc:.1f}%</td>\n",
        "                    <td style=\"border: 1px solid #ddd; padding: 8px; text-align: center;\">{seq_acc:.1f}%</td>\n",
        "                    <td style=\"border: 1px solid #ddd; padding: 8px; text-align: center;\">{model_name}</td>\n",
        "                    <td style=\"border: 1px solid #ddd; padding: 8px; text-align: center;\">{status_emoji}</td>\n",
        "                </tr>\n",
        "            \"\"\"\n",
        "        \n",
        "        # Add failed experiments\n",
        "        failed_results = [r for r in self.results if r.get('status') == 'failed']\n",
        "        for result in failed_results:\n",
        "            html += f\"\"\"\n",
        "                <tr style=\"background-color: #ffe6e6;\">\n",
        "                    <td style=\"border: 1px solid #ddd; padding: 8px; text-align: center;\">-</td>\n",
        "                    <td style=\"border: 1px solid #ddd; padding: 8px;\">{result['experiment_name']}</td>\n",
        "                    <td style=\"border: 1px solid #ddd; padding: 8px; text-align: center;\">FAILED</td>\n",
        "                    <td style=\"border: 1px solid #ddd; padding: 8px; text-align: center;\">FAILED</td>\n",
        "                    <td style=\"border: 1px solid #ddd; padding: 8px; text-align: center;\">-</td>\n",
        "                    <td style=\"border: 1px solid #ddd; padding: 8px; text-align: center;\">❌</td>\n",
        "                </tr>\n",
        "            \"\"\"\n",
        "        \n",
        "        html += \"\"\"\n",
        "                </tbody>\n",
        "            </table>\n",
        "        </div>\n",
        "        \"\"\"\n",
        "        \n",
        "        display(HTML(html))\n",
        "\n",
        "    def save_results(self):\n",
        "        \"\"\"Save tuning results to file and prepare for download.\"\"\"\n",
        "        timestamp = datetime.now().strftime(\"%Y%m%d_%H%M%S\")\n",
        "        results_file = f\"colab_hyperparameter_results_{timestamp}.json\"\n",
        "        \n",
        "        with open(results_file, 'w') as f:\n",
        "            json.dump({\n",
        "                'timestamp': timestamp,\n",
        "                'platform': 'Google Colab',\n",
        "                'gpu_info': torch.cuda.get_device_name(0) if torch.cuda.is_available() else 'CPU',\n",
        "                'best_result': self.best_result,\n",
        "                'all_results': self.results\n",
        "            }, f, indent=2)\n",
        "        \n",
        "        self.logger.info(f\"💾 Results saved to {results_file}\")\n",
        "        return results_file\n",
        "\n",
        "print(\"✅ Colab Hyperparameter Tuner class loaded!\")"
      ]
    },
    {
      "cell_type": "markdown",
      "metadata": {
        "id": "quick-test"
      },
      "source": [
        "## 🧪 Quick Test (Single Experiment)\n",
        "\n",
        "Test with just one experiment to make sure everything works:"
      ]
    },
    {
      "cell_type": "code",
      "execution_count": 6,
      "metadata": {
        "id": "test-single"
      },
      "outputs": [
        {
          "data": {
            "text/html": [
              "\n",
              "        <div style=\"border: 2px solid #4CAF50; padding: 10px; margin: 10px 0; border-radius: 5px;\">\n",
              "            <h3>🚀 Hyperparameter Tuning Progress</h3>\n",
              "            <p><strong>Experiment:</strong> 0/1 - conservative_small</p>\n",
              "            <p><strong>Status:</strong> Starting...</p>\n",
              "            <div style=\"background-color: #f0f0f0; border-radius: 10px; padding: 3px;\">\n",
              "                <div style=\"background-color: #4CAF50; height: 20px; border-radius: 10px; width: 0.0%;\"></div>\n",
              "            </div>\n",
              "            <p>0.0% Complete</p>\n",
              "        </div>\n",
              "        "
            ],
            "text/plain": [
              "<IPython.core.display.HTML object>"
            ]
          },
          "metadata": {},
          "output_type": "display_data"
        },
        {
          "name": "stderr",
          "output_type": "stream",
          "text": [
            "2025-06-24 12:38:53,637 - INFO - 🚀 Starting experiment: conservative_small\n",
            "2025-06-24 12:38:53,648 - INFO - Training environment setup complete\n",
            "2025-06-24 12:38:53,650 - INFO - Experiment directory: training_output/conservative_small\n",
            "2025-06-24 12:38:53,651 - INFO - Device: cpu\n",
            "2025-06-24 12:38:53,652 - INFO - Mixed precision: True\n",
            "2025-06-24 12:38:53,653 - INFO - 🖥️ Using device: cpu\n",
            "2025-06-24 12:38:53,654 - INFO - 📚 Loading datasets...\n"
          ]
        },
        {
          "name": "stdout",
          "output_type": "stream",
          "text": [
            "Loaded 4000 samples for split 'train'\n"
          ]
        },
        {
          "name": "stderr",
          "output_type": "stream",
          "text": [
            "2025-06-24 12:39:11,660 - INFO - 📊 Training samples: 4000\n",
            "2025-06-24 12:39:11,661 - INFO - 📊 Validation samples: 1000\n",
            "2025-06-24 12:39:11,662 - INFO - 🏗️ Creating model...\n"
          ]
        },
        {
          "name": "stdout",
          "output_type": "stream",
          "text": [
            "Loaded 1000 samples for split 'val'\n"
          ]
        },
        {
          "name": "stderr",
          "output_type": "stream",
          "text": [
            "2025-06-24 12:39:12,099 - INFO - Model parameters: {'total_parameters': 12484789, 'trainable_parameters': 12484789, 'non_trainable_parameters': 0}\n",
            "2025-06-24 12:39:12,100 - INFO - OCR Trainer initialized\n",
            "2025-06-24 12:39:12,102 - INFO - Vocabulary size: 13\n",
            "2025-06-24 12:39:12,103 - INFO - Characters: ['U+17E0', 'U+17E1', 'U+17E2', 'U+17E3', 'U+17E4', 'U+17E5', 'U+17E6', 'U+17E7', 'U+17E8', 'U+17E9', '<EOS>', '<PAD>', '<BLANK>']\n",
            "2025-06-24 12:39:12,104 - INFO - 🎯 Starting training...\n",
            "2025-06-24 12:39:12,106 - INFO - Starting training for 2 epochs\n",
            "2025-06-24 12:39:12,107 - INFO - Training samples: 4000\n",
            "2025-06-24 12:39:12,109 - INFO - Validation samples: 1000\n",
            "2025-06-24 12:39:27,563 - INFO - Epoch 1 Batch 0 - Images: torch.Size([32, 3, 128, 64]), Labels: torch.Size([32, 9]), Predictions: torch.Size([32, 9, 13])\n",
            "2025-06-24 12:39:28,043 - INFO - Epoch   1 | Batch    0/125 | Loss: 2.8828 | LR: 0.001000\n",
            "2025-06-24 12:39:28,216 - INFO - Epoch 1 Batch 1 - Images: torch.Size([32, 3, 128, 64]), Labels: torch.Size([32, 9]), Predictions: torch.Size([32, 9, 13])\n",
            "2025-06-24 12:39:28,767 - INFO - Epoch 1 Batch 2 - Images: torch.Size([32, 3, 128, 64]), Labels: torch.Size([32, 9]), Predictions: torch.Size([32, 9, 13])\n",
            "2025-06-24 12:39:41,500 - INFO - Epoch   1 | Batch   25/125 | Loss: 2.2159 | LR: 0.001000\n",
            "2025-06-24 12:39:56,720 - INFO - Epoch   1 | Batch   50/125 | Loss: 2.1448 | LR: 0.001000\n",
            "2025-06-24 12:40:09,324 - INFO - Epoch   1 | Batch   75/125 | Loss: 2.2036 | LR: 0.001000\n",
            "2025-06-24 12:40:23,708 - INFO - Epoch   1 | Batch  100/125 | Loss: 2.1069 | LR: 0.001000\n",
            "2025-06-24 12:40:56,161 - INFO - Validation Batch 0 - Images: torch.Size([32, 3, 128, 64]), Labels: torch.Size([32, 9])\n",
            "2025-06-24 12:40:56,328 - INFO - Validation Batch 0 - Predictions: torch.Size([32, 9, 13])\n",
            "2025-06-24 12:40:56,333 - INFO - Validation Batch 1 - Images: torch.Size([32, 3, 128, 64]), Labels: torch.Size([32, 9])\n",
            "2025-06-24 12:40:56,487 - INFO - Validation Batch 1 - Predictions: torch.Size([32, 9, 13])\n",
            "2025-06-24 12:40:56,493 - INFO - Validation Batch 2 - Images: torch.Size([32, 3, 128, 64]), Labels: torch.Size([32, 9])\n",
            "2025-06-24 12:40:56,644 - INFO - Validation Batch 2 - Predictions: torch.Size([32, 9, 13])\n",
            "2025-06-24 12:41:10,274 - INFO - Epoch   1 Results:\n",
            "2025-06-24 12:41:10,275 - INFO -   Train Loss: 2.2066\n",
            "2025-06-24 12:41:10,275 - INFO -   Val Loss:   2.1454\n",
            "2025-06-24 12:41:10,276 - INFO -   Train Char Acc: 25.5%\n",
            "2025-06-24 12:41:10,277 - INFO -   Val Char Acc:   27.5%\n",
            "2025-06-24 12:41:10,277 - INFO -   Train Seq Acc:  1.8%\n",
            "2025-06-24 12:41:10,278 - INFO -   Val Seq Acc:    4.1%\n",
            "2025-06-24 12:41:10,737 - INFO - New best model saved at epoch 1\n",
            "2025-06-24 12:41:10,863 - INFO - Checkpoint saved: training_output/conservative_small/checkpoints/checkpoint_epoch_001.pth\n",
            "2025-06-24 12:41:21,763 - INFO - Epoch   2 | Batch    0/125 | Loss: 2.0723 | LR: 0.001000\n",
            "2025-06-24 12:41:33,905 - INFO - Epoch   2 | Batch   25/125 | Loss: 2.0230 | LR: 0.001000\n",
            "2025-06-24 12:41:46,015 - INFO - Epoch   2 | Batch   50/125 | Loss: 1.9627 | LR: 0.001000\n",
            "2025-06-24 12:41:58,299 - INFO - Epoch   2 | Batch   75/125 | Loss: 2.2393 | LR: 0.001000\n",
            "2025-06-24 12:42:11,699 - INFO - Epoch   2 | Batch  100/125 | Loss: 2.0425 | LR: 0.001000\n",
            "2025-06-24 12:42:45,079 - INFO - Validation Batch 0 - Images: torch.Size([32, 3, 128, 64]), Labels: torch.Size([32, 9])\n",
            "2025-06-24 12:42:45,262 - INFO - Validation Batch 0 - Predictions: torch.Size([32, 9, 13])\n",
            "2025-06-24 12:42:45,267 - INFO - Validation Batch 1 - Images: torch.Size([32, 3, 128, 64]), Labels: torch.Size([32, 9])\n",
            "2025-06-24 12:42:45,420 - INFO - Validation Batch 1 - Predictions: torch.Size([32, 9, 13])\n",
            "2025-06-24 12:42:45,426 - INFO - Validation Batch 2 - Images: torch.Size([32, 3, 128, 64]), Labels: torch.Size([32, 9])\n",
            "2025-06-24 12:42:45,597 - INFO - Validation Batch 2 - Predictions: torch.Size([32, 9, 13])\n",
            "2025-06-24 12:42:59,770 - INFO - Epoch   2 Results:\n",
            "2025-06-24 12:42:59,771 - INFO -   Train Loss: 2.0344\n",
            "2025-06-24 12:42:59,771 - INFO -   Val Loss:   2.0212\n",
            "2025-06-24 12:42:59,772 - INFO -   Train Char Acc: 29.8%\n",
            "2025-06-24 12:42:59,773 - INFO -   Val Char Acc:   29.0%\n",
            "2025-06-24 12:42:59,774 - INFO -   Train Seq Acc:  4.8%\n",
            "2025-06-24 12:42:59,774 - INFO -   Val Seq Acc:    4.9%\n",
            "2025-06-24 12:43:00,199 - INFO - New best model saved at epoch 2\n",
            "2025-06-24 12:43:00,315 - INFO - Checkpoint saved: training_output/conservative_small/checkpoints/checkpoint_epoch_002.pth\n",
            "2025-06-24 12:43:00,317 - INFO - Training completed in 228.21 seconds\n",
            "2025-06-24 12:43:00,417 - INFO - Checkpoint loaded: training_output/conservative_small/checkpoints/best_model.pth\n",
            "2025-06-24 12:43:00,449 - INFO - Loaded best model from epoch 2\n",
            "2025-06-24 12:43:00,476 - INFO - ✅ Experiment conservative_small completed!\n",
            "2025-06-24 12:43:00,477 - INFO - 🏆 Best character accuracy: 0.2898\n",
            "2025-06-24 12:43:00,478 - INFO - 🏆 Best sequence accuracy: 0.0490\n"
          ]
        },
        {
          "data": {
            "text/html": [
              "\n",
              "        <div style=\"border: 2px solid #4CAF50; padding: 10px; margin: 10px 0; border-radius: 5px;\">\n",
              "            <h3>🚀 Hyperparameter Tuning Progress</h3>\n",
              "            <p><strong>Experiment:</strong> 1/1 - conservative_small</p>\n",
              "            <p><strong>Status:</strong> ✅ Completed</p>\n",
              "            <div style=\"background-color: #f0f0f0; border-radius: 10px; padding: 3px;\">\n",
              "                <div style=\"background-color: #4CAF50; height: 20px; border-radius: 10px; width: 100.0%;\"></div>\n",
              "            </div>\n",
              "            <p>100.0% Complete</p>\n",
              "        </div>\n",
              "        "
            ],
            "text/plain": [
              "<IPython.core.display.HTML object>"
            ]
          },
          "metadata": {},
          "output_type": "display_data"
        },
        {
          "data": {
            "text/html": [
              "\n",
              "        <div style=\"margin: 20px 0;\">\n",
              "            <h3>📊 Current Results</h3>\n",
              "            <table style=\"border-collapse: collapse; width: 100%; border: 1px solid #ddd;\">\n",
              "                <thead>\n",
              "                    <tr style=\"background-color: #f2f2f2;\">\n",
              "                        <th style=\"border: 1px solid #ddd; padding: 8px;\">Rank</th>\n",
              "                        <th style=\"border: 1px solid #ddd; padding: 8px;\">Experiment</th>\n",
              "                        <th style=\"border: 1px solid #ddd; padding: 8px;\">Char Acc</th>\n",
              "                        <th style=\"border: 1px solid #ddd; padding: 8px;\">Seq Acc</th>\n",
              "                        <th style=\"border: 1px solid #ddd; padding: 8px;\">Model</th>\n",
              "                        <th style=\"border: 1px solid #ddd; padding: 8px;\">Status</th>\n",
              "                    </tr>\n",
              "                </thead>\n",
              "                <tbody>\n",
              "        \n",
              "                <tr>\n",
              "                    <td style=\"border: 1px solid #ddd; padding: 8px; text-align: center;\">1</td>\n",
              "                    <td style=\"border: 1px solid #ddd; padding: 8px;\">conservative_small</td>\n",
              "                    <td style=\"border: 1px solid #ddd; padding: 8px; text-align: center;\">29.0%</td>\n",
              "                    <td style=\"border: 1px solid #ddd; padding: 8px; text-align: center;\">4.9%</td>\n",
              "                    <td style=\"border: 1px solid #ddd; padding: 8px; text-align: center;\">small</td>\n",
              "                    <td style=\"border: 1px solid #ddd; padding: 8px; text-align: center;\">✅</td>\n",
              "                </tr>\n",
              "            \n",
              "                </tbody>\n",
              "            </table>\n",
              "        </div>\n",
              "        "
            ],
            "text/plain": [
              "<IPython.core.display.HTML object>"
            ]
          },
          "metadata": {},
          "output_type": "display_data"
        },
        {
          "name": "stdout",
          "output_type": "stream",
          "text": [
            "\n",
            "✅ Quick test completed!\n",
            "🏆 Result: 29.0% character accuracy\n"
          ]
        }
      ],
      "source": [
        "# Quick test with the best performing configuration\n",
        "print(\"🧪 Running quick test with conservative_small configuration...\")\n",
        "\n",
        "# Initialize tuner\n",
        "tuner = ColabHyperparameterTuner()\n",
        "\n",
        "# Run just the best configuration for testing\n",
        "tuner.run_experiments(['conservative_small'])\n",
        "\n",
        "print(\"\\n✅ Quick test completed!\")\n",
        "if tuner.best_result:\n",
        "    print(f\"🏆 Result: {tuner.best_result['best_val_char_accuracy']:.1%} character accuracy\")"
      ]
    },
    {
      "cell_type": "markdown",
      "metadata": {
        "id": "full-tuning"
      },
      "source": [
        "## 🚀 Full Hyperparameter Tuning\n",
        "\n",
        "Run all experiments (this will take several hours with GPU):"
      ]
    },
    {
      "cell_type": "code",
      "execution_count": 7,
      "metadata": {
        "id": "run-all"
      },
      "outputs": [
        {
          "data": {
            "text/html": [
              "\n",
              "        <div style=\"border: 2px solid #4CAF50; padding: 10px; margin: 10px 0; border-radius: 5px;\">\n",
              "            <h3>🚀 Hyperparameter Tuning Progress</h3>\n",
              "            <p><strong>Experiment:</strong> 6/7 - fast_convergence</p>\n",
              "            <p><strong>Status:</strong> Starting...</p>\n",
              "            <div style=\"background-color: #f0f0f0; border-radius: 10px; padding: 3px;\">\n",
              "                <div style=\"background-color: #4CAF50; height: 20px; border-radius: 10px; width: 85.71428571428571%;\"></div>\n",
              "            </div>\n",
              "            <p>85.7% Complete</p>\n",
              "        </div>\n",
              "        "
            ],
            "text/plain": [
              "<IPython.core.display.HTML object>"
            ]
          },
          "metadata": {},
          "output_type": "display_data"
        },
        {
          "name": "stderr",
          "output_type": "stream",
          "text": [
            "2025-06-24 13:20:54,502 - INFO - 🚀 Starting experiment: fast_convergence\n",
            "2025-06-24 13:20:54,516 - INFO - Training environment setup complete\n",
            "2025-06-24 13:20:54,516 - INFO - Experiment directory: training_output/fast_convergence\n",
            "2025-06-24 13:20:54,517 - INFO - Device: cpu\n",
            "2025-06-24 13:20:54,518 - INFO - Mixed precision: True\n",
            "2025-06-24 13:20:54,519 - INFO - 🖥️ Using device: cpu\n",
            "2025-06-24 13:20:54,519 - INFO - 📚 Loading datasets...\n"
          ]
        },
        {
          "name": "stdout",
          "output_type": "stream",
          "text": [
            "Loaded 4000 samples for split 'train'\n"
          ]
        },
        {
          "name": "stderr",
          "output_type": "stream",
          "text": [
            "2025-06-24 13:21:06,333 - INFO - 📊 Training samples: 4000\n",
            "2025-06-24 13:21:06,334 - INFO - 📊 Validation samples: 1000\n",
            "2025-06-24 13:21:06,335 - INFO - 🏗️ Creating model...\n"
          ]
        },
        {
          "name": "stdout",
          "output_type": "stream",
          "text": [
            "Loaded 1000 samples for split 'val'\n"
          ]
        },
        {
          "name": "stderr",
          "output_type": "stream",
          "text": [
            "2025-06-24 13:21:06,583 - INFO - Model parameters: {'total_parameters': 16167733, 'trainable_parameters': 16167733, 'non_trainable_parameters': 0}\n",
            "2025-06-24 13:21:06,584 - INFO - OCR Trainer initialized\n",
            "2025-06-24 13:21:06,584 - INFO - Vocabulary size: 13\n",
            "2025-06-24 13:21:06,584 - INFO - Characters: ['U+17E0', 'U+17E1', 'U+17E2', 'U+17E3', 'U+17E4', 'U+17E5', 'U+17E6', 'U+17E7', 'U+17E8', 'U+17E9', '<EOS>', '<PAD>', '<BLANK>']\n",
            "2025-06-24 13:21:06,585 - INFO - 🎯 Starting training...\n",
            "2025-06-24 13:21:06,586 - INFO - Starting training for 2 epochs\n",
            "2025-06-24 13:21:06,586 - INFO - Training samples: 4000\n",
            "2025-06-24 13:21:06,587 - INFO - Validation samples: 1000\n",
            "2025-06-24 13:21:17,999 - INFO - Epoch 1 Batch 0 - Images: torch.Size([96, 3, 128, 64]), Labels: torch.Size([96, 9]), Predictions: torch.Size([96, 9, 13])\n",
            "2025-06-24 13:21:19,297 - INFO - Epoch   1 | Batch    0/42 | Loss: 2.9399 | LR: 0.005000\n",
            "2025-06-24 13:21:19,884 - INFO - Epoch 1 Batch 1 - Images: torch.Size([96, 3, 128, 64]), Labels: torch.Size([96, 9]), Predictions: torch.Size([96, 9, 13])\n",
            "2025-06-24 13:21:21,542 - INFO - Epoch 1 Batch 2 - Images: torch.Size([96, 3, 128, 64]), Labels: torch.Size([96, 9]), Predictions: torch.Size([96, 9, 13])\n",
            "2025-06-24 13:22:00,130 - INFO - Epoch   1 | Batch   25/42 | Loss: 2.4302 | LR: 0.005000\n",
            "2025-06-24 13:22:45,324 - INFO - Validation Batch 0 - Images: torch.Size([96, 3, 128, 64]), Labels: torch.Size([96, 9])\n",
            "2025-06-24 13:22:45,782 - INFO - Validation Batch 0 - Predictions: torch.Size([96, 9, 13])\n",
            "2025-06-24 13:22:45,793 - INFO - Validation Batch 1 - Images: torch.Size([96, 3, 128, 64]), Labels: torch.Size([96, 9])\n",
            "2025-06-24 13:22:46,202 - INFO - Validation Batch 1 - Predictions: torch.Size([96, 9, 13])\n",
            "2025-06-24 13:22:46,212 - INFO - Validation Batch 2 - Images: torch.Size([96, 3, 128, 64]), Labels: torch.Size([96, 9])\n",
            "2025-06-24 13:22:46,629 - INFO - Validation Batch 2 - Predictions: torch.Size([96, 9, 13])\n",
            "2025-06-24 13:22:59,803 - INFO - Epoch   1 Results:\n",
            "2025-06-24 13:22:59,804 - INFO -   Train Loss: 2.9698\n",
            "2025-06-24 13:22:59,805 - INFO -   Val Loss:   2.4206\n",
            "2025-06-24 13:22:59,805 - INFO -   Train Char Acc: 15.0%\n",
            "2025-06-24 13:22:59,806 - INFO -   Val Char Acc:   19.4%\n",
            "2025-06-24 13:22:59,806 - INFO -   Train Seq Acc:  0.3%\n",
            "2025-06-24 13:22:59,807 - INFO -   Val Seq Acc:    0.0%\n",
            "2025-06-24 13:23:00,503 - INFO - New best model saved at epoch 1\n",
            "2025-06-24 13:23:00,671 - INFO - Checkpoint saved: training_output/fast_convergence/checkpoints/checkpoint_epoch_001.pth\n",
            "2025-06-24 13:23:13,998 - INFO - Epoch   2 | Batch    0/42 | Loss: 2.4321 | LR: 0.002500\n",
            "2025-06-24 13:23:56,390 - INFO - Epoch   2 | Batch   25/42 | Loss: 2.3873 | LR: 0.002500\n",
            "2025-06-24 13:24:44,420 - INFO - Validation Batch 0 - Images: torch.Size([96, 3, 128, 64]), Labels: torch.Size([96, 9])\n",
            "2025-06-24 13:24:44,929 - INFO - Validation Batch 0 - Predictions: torch.Size([96, 9, 13])\n",
            "2025-06-24 13:24:44,939 - INFO - Validation Batch 1 - Images: torch.Size([96, 3, 128, 64]), Labels: torch.Size([96, 9])\n",
            "2025-06-24 13:24:45,368 - INFO - Validation Batch 1 - Predictions: torch.Size([96, 9, 13])\n",
            "2025-06-24 13:24:45,377 - INFO - Validation Batch 2 - Images: torch.Size([96, 3, 128, 64]), Labels: torch.Size([96, 9])\n",
            "2025-06-24 13:24:45,820 - INFO - Validation Batch 2 - Predictions: torch.Size([96, 9, 13])\n",
            "2025-06-24 13:24:59,085 - INFO - Epoch   2 Results:\n",
            "2025-06-24 13:24:59,086 - INFO -   Train Loss: 2.3828\n",
            "2025-06-24 13:24:59,086 - INFO -   Val Loss:   2.3804\n",
            "2025-06-24 13:24:59,087 - INFO -   Train Char Acc: 18.9%\n",
            "2025-06-24 13:24:59,088 - INFO -   Val Char Acc:   20.2%\n",
            "2025-06-24 13:24:59,089 - INFO -   Train Seq Acc:  0.2%\n",
            "2025-06-24 13:24:59,090 - INFO -   Val Seq Acc:    1.7%\n",
            "2025-06-24 13:24:59,612 - INFO - New best model saved at epoch 2\n",
            "2025-06-24 13:24:59,746 - INFO - Checkpoint saved: training_output/fast_convergence/checkpoints/checkpoint_epoch_002.pth\n",
            "2025-06-24 13:24:59,747 - INFO - Training completed in 233.16 seconds\n",
            "2025-06-24 13:24:59,853 - INFO - Checkpoint loaded: training_output/fast_convergence/checkpoints/best_model.pth\n",
            "2025-06-24 13:24:59,883 - INFO - Loaded best model from epoch 2\n",
            "2025-06-24 13:24:59,906 - INFO - ✅ Experiment fast_convergence completed!\n",
            "2025-06-24 13:24:59,907 - INFO - 🏆 Best character accuracy: 0.2020\n",
            "2025-06-24 13:24:59,907 - INFO - 🏆 Best sequence accuracy: 0.0170\n"
          ]
        },
        {
          "data": {
            "text/html": [
              "\n",
              "        <div style=\"border: 2px solid #4CAF50; padding: 10px; margin: 10px 0; border-radius: 5px;\">\n",
              "            <h3>🚀 Hyperparameter Tuning Progress</h3>\n",
              "            <p><strong>Experiment:</strong> 7/7 - fast_convergence</p>\n",
              "            <p><strong>Status:</strong> ✅ Completed</p>\n",
              "            <div style=\"background-color: #f0f0f0; border-radius: 10px; padding: 3px;\">\n",
              "                <div style=\"background-color: #4CAF50; height: 20px; border-radius: 10px; width: 100.0%;\"></div>\n",
              "            </div>\n",
              "            <p>100.0% Complete</p>\n",
              "        </div>\n",
              "        "
            ],
            "text/plain": [
              "<IPython.core.display.HTML object>"
            ]
          },
          "metadata": {},
          "output_type": "display_data"
        },
        {
          "data": {
            "text/html": [
              "\n",
              "        <div style=\"margin: 20px 0;\">\n",
              "            <h3>📊 Current Results</h3>\n",
              "            <table style=\"border-collapse: collapse; width: 100%; border: 1px solid #ddd;\">\n",
              "                <thead>\n",
              "                    <tr style=\"background-color: #f2f2f2;\">\n",
              "                        <th style=\"border: 1px solid #ddd; padding: 8px;\">Rank</th>\n",
              "                        <th style=\"border: 1px solid #ddd; padding: 8px;\">Experiment</th>\n",
              "                        <th style=\"border: 1px solid #ddd; padding: 8px;\">Char Acc</th>\n",
              "                        <th style=\"border: 1px solid #ddd; padding: 8px;\">Seq Acc</th>\n",
              "                        <th style=\"border: 1px solid #ddd; padding: 8px;\">Model</th>\n",
              "                        <th style=\"border: 1px solid #ddd; padding: 8px;\">Status</th>\n",
              "                    </tr>\n",
              "                </thead>\n",
              "                <tbody>\n",
              "        \n",
              "                <tr>\n",
              "                    <td style=\"border: 1px solid #ddd; padding: 8px; text-align: center;\">1</td>\n",
              "                    <td style=\"border: 1px solid #ddd; padding: 8px;\">conservative_small</td>\n",
              "                    <td style=\"border: 1px solid #ddd; padding: 8px; text-align: center;\">29.3%</td>\n",
              "                    <td style=\"border: 1px solid #ddd; padding: 8px; text-align: center;\">5.4%</td>\n",
              "                    <td style=\"border: 1px solid #ddd; padding: 8px; text-align: center;\">small</td>\n",
              "                    <td style=\"border: 1px solid #ddd; padding: 8px; text-align: center;\">✅</td>\n",
              "                </tr>\n",
              "            \n",
              "                <tr>\n",
              "                    <td style=\"border: 1px solid #ddd; padding: 8px; text-align: center;\">2</td>\n",
              "                    <td style=\"border: 1px solid #ddd; padding: 8px;\">focal_loss_experiment</td>\n",
              "                    <td style=\"border: 1px solid #ddd; padding: 8px; text-align: center;\">25.3%</td>\n",
              "                    <td style=\"border: 1px solid #ddd; padding: 8px; text-align: center;\">0.1%</td>\n",
              "                    <td style=\"border: 1px solid #ddd; padding: 8px; text-align: center;\">medium</td>\n",
              "                    <td style=\"border: 1px solid #ddd; padding: 8px; text-align: center;\">✅</td>\n",
              "                </tr>\n",
              "            \n",
              "                <tr>\n",
              "                    <td style=\"border: 1px solid #ddd; padding: 8px; text-align: center;\">3</td>\n",
              "                    <td style=\"border: 1px solid #ddd; padding: 8px;\">baseline_optimized</td>\n",
              "                    <td style=\"border: 1px solid #ddd; padding: 8px; text-align: center;\">24.8%</td>\n",
              "                    <td style=\"border: 1px solid #ddd; padding: 8px; text-align: center;\">0.1%</td>\n",
              "                    <td style=\"border: 1px solid #ddd; padding: 8px; text-align: center;\">medium</td>\n",
              "                    <td style=\"border: 1px solid #ddd; padding: 8px; text-align: center;\">✅</td>\n",
              "                </tr>\n",
              "            \n",
              "                <tr>\n",
              "                    <td style=\"border: 1px solid #ddd; padding: 8px; text-align: center;\">4</td>\n",
              "                    <td style=\"border: 1px solid #ddd; padding: 8px;\">aggressive_learning</td>\n",
              "                    <td style=\"border: 1px solid #ddd; padding: 8px; text-align: center;\">21.1%</td>\n",
              "                    <td style=\"border: 1px solid #ddd; padding: 8px; text-align: center;\">0.2%</td>\n",
              "                    <td style=\"border: 1px solid #ddd; padding: 8px; text-align: center;\">medium</td>\n",
              "                    <td style=\"border: 1px solid #ddd; padding: 8px; text-align: center;\">✅</td>\n",
              "                </tr>\n",
              "            \n",
              "                <tr>\n",
              "                    <td style=\"border: 1px solid #ddd; padding: 8px; text-align: center;\">5</td>\n",
              "                    <td style=\"border: 1px solid #ddd; padding: 8px;\">fast_convergence</td>\n",
              "                    <td style=\"border: 1px solid #ddd; padding: 8px; text-align: center;\">20.2%</td>\n",
              "                    <td style=\"border: 1px solid #ddd; padding: 8px; text-align: center;\">1.7%</td>\n",
              "                    <td style=\"border: 1px solid #ddd; padding: 8px; text-align: center;\">medium</td>\n",
              "                    <td style=\"border: 1px solid #ddd; padding: 8px; text-align: center;\">✅</td>\n",
              "                </tr>\n",
              "            \n",
              "                <tr>\n",
              "                    <td style=\"border: 1px solid #ddd; padding: 8px; text-align: center;\">6</td>\n",
              "                    <td style=\"border: 1px solid #ddd; padding: 8px;\">large_model_regularized</td>\n",
              "                    <td style=\"border: 1px solid #ddd; padding: 8px; text-align: center;\">18.3%</td>\n",
              "                    <td style=\"border: 1px solid #ddd; padding: 8px; text-align: center;\">0.0%</td>\n",
              "                    <td style=\"border: 1px solid #ddd; padding: 8px; text-align: center;\">large</td>\n",
              "                    <td style=\"border: 1px solid #ddd; padding: 8px; text-align: center;\">✅</td>\n",
              "                </tr>\n",
              "            \n",
              "                <tr style=\"background-color: #ffe6e6;\">\n",
              "                    <td style=\"border: 1px solid #ddd; padding: 8px; text-align: center;\">-</td>\n",
              "                    <td style=\"border: 1px solid #ddd; padding: 8px;\">ctc_alignment_free</td>\n",
              "                    <td style=\"border: 1px solid #ddd; padding: 8px; text-align: center;\">FAILED</td>\n",
              "                    <td style=\"border: 1px solid #ddd; padding: 8px; text-align: center;\">FAILED</td>\n",
              "                    <td style=\"border: 1px solid #ddd; padding: 8px; text-align: center;\">-</td>\n",
              "                    <td style=\"border: 1px solid #ddd; padding: 8px; text-align: center;\">❌</td>\n",
              "                </tr>\n",
              "            \n",
              "                </tbody>\n",
              "            </table>\n",
              "        </div>\n",
              "        "
            ],
            "text/plain": [
              "<IPython.core.display.HTML object>"
            ]
          },
          "metadata": {},
          "output_type": "display_data"
        },
        {
          "name": "stderr",
          "output_type": "stream",
          "text": [
            "2025-06-24 13:24:59,971 - INFO - 💾 Results saved to colab_hyperparameter_results_20250624_132459.json\n"
          ]
        },
        {
          "name": "stdout",
          "output_type": "stream",
          "text": [
            "\n",
            "🎉 Hyperparameter tuning completed!\n",
            "🏆 Best result: conservative_small\n",
            "📊 Character accuracy: 29.3%\n",
            "📊 Sequence accuracy: 5.4%\n"
          ]
        }
      ],
      "source": [
        "# Run all hyperparameter experiments\n",
        "print(\"🚀 Starting full hyperparameter tuning...\")\n",
        "print(\"⏰ This will take several hours with GPU acceleration.\")\n",
        "print(\"💡 You can stop and resume by running specific experiments.\")\n",
        "\n",
        "# Initialize fresh tuner\n",
        "full_tuner = ColabHyperparameterTuner()\n",
        "\n",
        "# Run all experiments\n",
        "full_tuner.run_experiments()\n",
        "\n",
        "# Save results\n",
        "results_file = full_tuner.save_results()\n",
        "\n",
        "print(f\"\\n🎉 Hyperparameter tuning completed!\")\n",
        "if full_tuner.best_result:\n",
        "    print(f\"🏆 Best result: {full_tuner.best_result['experiment_name']}\")\n",
        "    print(f\"📊 Character accuracy: {full_tuner.best_result['best_val_char_accuracy']:.1%}\")\n",
        "    print(f\"📊 Sequence accuracy: {full_tuner.best_result['best_val_seq_accuracy']:.1%}\")"
      ]
    },
    {
      "cell_type": "markdown",
      "metadata": {
        "id": "selective-experiments"
      },
      "source": [
        "## 🎯 Run Specific Experiments\n",
        "\n",
        "If you want to run only certain experiments:"
      ]
    },
    {
      "cell_type": "code",
      "execution_count": null,
      "metadata": {
        "id": "selective"
      },
      "outputs": [],
      "source": [
        "# Run specific experiments\n",
        "experiments_to_run = [\n",
        "    'conservative_small',\n",
        "    'baseline_optimized',\n",
        "    'focal_loss_experiment'\n",
        "]\n",
        "\n",
        "print(f\"🎯 Running selected experiments: {experiments_to_run}\")\n",
        "\n",
        "selective_tuner = ColabHyperparameterTuner()\n",
        "selective_tuner.run_experiments(experiments_to_run)\n",
        "\n",
        "# Save results\n",
        "results_file = selective_tuner.save_results()\n",
        "print(f\"\\n💾 Results saved: {results_file}\")"
      ]
    },
    {
      "cell_type": "markdown",
      "metadata": {
        "id": "download-results"
      },
      "source": [
        "## 📥 Download Results"
      ]
    },
    {
      "cell_type": "code",
      "execution_count": null,
      "metadata": {
        "id": "download"
      },
      "outputs": [],
      "source": [
        "# Download results and model checkpoints\n",
        "from google.colab import files\n",
        "import glob\n",
        "import zipfile\n",
        "\n",
        "# Find all result files\n",
        "result_files = glob.glob(\"colab_hyperparameter_results_*.json\")\n",
        "log_files = glob.glob(\"*.log\")\n",
        "checkpoint_dirs = glob.glob(\"training_output/*\")\n",
        "\n",
        "print(\"📁 Available files for download:\")\n",
        "print(\"\\n📊 Results:\")\n",
        "for f in result_files:\n",
        "    print(f\"  - {f}\")\n",
        "\n",
        "print(\"\\n📝 Logs:\")\n",
        "for f in log_files:\n",
        "    print(f\"  - {f}\")\n",
        "\n",
        "print(\"\\n🏗️ Model checkpoints:\")\n",
        "for d in checkpoint_dirs:\n",
        "    print(f\"  - {d}/\")\n",
        "\n",
        "# Download the latest results file\n",
        "if result_files:\n",
        "    latest_results = sorted(result_files)[-1]\n",
        "    print(f\"\\n📥 Downloading latest results: {latest_results}\")\n",
        "    files.download(latest_results)\n",
        "\n",
        "# Create and download a zip of all training outputs\n",
        "if checkpoint_dirs:\n",
        "    zip_filename = f\"training_outputs_{datetime.now().strftime('%Y%m%d_%H%M%S')}.zip\"\n",
        "    \n",
        "    with zipfile.ZipFile(zip_filename, 'w', zipfile.ZIP_DEFLATED) as zipf:\n",
        "        # Add result files\n",
        "        for f in result_files:\n",
        "            zipf.write(f)\n",
        "        \n",
        "        # Add checkpoints (best models only to save space)\n",
        "        for checkpoint_dir in checkpoint_dirs:\n",
        "            best_model = f\"{checkpoint_dir}/checkpoints/best_model.pth\"\n",
        "            if os.path.exists(best_model):\n",
        "                zipf.write(best_model)\n",
        "    \n",
        "    print(f\"\\n📦 Downloading complete training package: {zip_filename}\")\n",
        "    files.download(zip_filename)\n",
        "\n",
        "print(\"\\n✅ Download completed!\")"
      ]
    },
    {
      "cell_type": "markdown",
      "metadata": {
        "id": "tensorboard"
      },
      "source": [
        "## 📊 TensorBoard Visualization (Optional)"
      ]
    },
    {
      "cell_type": "code",
      "execution_count": null,
      "metadata": {
        "id": "tensorboard-setup"
      },
      "outputs": [],
      "source": [
        "# Load TensorBoard in Colab\n",
        "%load_ext tensorboard\n",
        "\n",
        "# Launch TensorBoard\n",
        "%tensorboard --logdir training_output\n",
        "\n",
        "print(\"📊 TensorBoard launched! You can see training curves above.\")\n",
        "print(\"💡 Refresh the TensorBoard cell if it doesn't load immediately.\")"
      ]
    },
    {
      "cell_type": "markdown",
      "metadata": {
        "id": "summary"
      },
      "source": [
        "## 📋 Summary & Next Steps\n",
        "\n",
        "After running the experiments:\n",
        "\n",
        "1. **Download your results** using the download cell above\n",
        "2. **Analyze the results** - check which configuration performed best\n",
        "3. **Run full training** with the best configuration\n",
        "4. **Fine-tune** hyperparameters around the best performing range\n",
        "\n",
        "### Expected Performance:\n",
        "- **Best configuration**: conservative_small\n",
        "- **Expected character accuracy**: 40-60% (with full epochs)\n",
        "- **Target**: 85% character accuracy\n",
        "\n",
        "### GPU Benefits:\n",
        "- **~10x faster** training compared to CPU\n",
        "- **Mixed precision** training for additional speedup\n",
        "- **Larger batch sizes** possible with GPU memory\n",
        "\n",
        "🎉 **Congratulations on running hyperparameter tuning on Colab!**\n"
      ]
    }
  ],
  "metadata": {
    "accelerator": "GPU",
    "colab": {
      "gpuType": "T4",
      "provenance": []
    },
    "kernelspec": {
      "display_name": "Python 3",
      "name": "python3"
    },
    "language_info": {
      "codemirror_mode": {
        "name": "ipython",
        "version": 3
      },
      "file_extension": ".py",
      "mimetype": "text/x-python",
      "name": "python",
      "nbconvert_exporter": "python",
      "pygments_lexer": "ipython3",
      "version": "3.10.12"
    }
  },
  "nbformat": 4,
  "nbformat_minor": 0
}
